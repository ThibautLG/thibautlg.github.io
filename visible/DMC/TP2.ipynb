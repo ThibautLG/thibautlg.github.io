{
 "cells": [
  {
   "cell_type": "markdown",
   "metadata": {},
   "source": [
    "# Détection de rupture\n",
    "\n",
    "Supposons que les $X_i$ de la suite $(X_1,...,X_n)$ suive une loi de paramètre $\\theta_0$ pour $i=1,...,\\tau$ puis de paramètre $\\theta_1 \\neq \\theta_0$ pour $i=\\tau+1,...,n$. L'objectif est alors de trouver l'instant $\\tau$ de rupture. Souvent, $\\theta$ correspond à l'espérance ou à la variance."
   ]
  },
  {
   "cell_type": "code",
   "execution_count": null,
   "metadata": {
    "collapsed": true
   },
   "outputs": [],
   "source": [
    "%matplotlib inline\n",
    "import numpy as np\n",
    "import matplotlib.pyplot as plt"
   ]
  },
  {
   "cell_type": "markdown",
   "metadata": {},
   "source": [
    "## Algorithme PELT\n",
    "\n",
    "Cet algorithme permet de détecter des ruptures de loi dans une suite de variables aléatoires:\n",
    "\n",
    "Pour trouver ce $\\tau$ à partir de l'observation des $(X_1,...,X_n)$, on choisit le $\\tau$ qui minimise \n",
    "$$\n",
    "\\tau \\mapsto C(X_1,...,X_\\tau;\\theta_0)+C(X_{\\tau+1},...,X_n;\\theta_1),\n",
    "$$\n",
    "où $C(X_1,...,X_k;\\theta)$ est une fonction qui mesure l'adéquation des données $X_1,...,X_k$ à la loi de paramètre $\\theta$ (plus $C$ est petit, plus l'adéquation est grande). Un exemple typique de $C$ est l'opposé de la log-vraisemblance. Dans un modèle gaussien où $\\theta$ est la moyenne, on cherche alors à minimiser\n",
    "$$\n",
    "\\tau \\mapsto \\sum_{i=1}^\\tau (X_i-\\theta_0)^2+\\sum_{i=\\tau+1}^n(X_i-\\theta_1)^2.\n",
    "$$\n",
    "\n",
    "On note alors $\\hat{\\tau}$ la valeur de $\\tau$ pour laquelle $C(X_1,...,X_\\tau;\\theta_0)+C(X_{\\tau+1},...,X_n;\\theta_1)$ est minimale. Il s'agit de notre estimateur de l'instant de rupture.\n",
    "\n",
    "S'il y a plusieurs ruptures, aux instants $\\tau_1,...,\\tau_m$, avec $m$ inconnu, la même idée nous amène à vouloir minimiser (en notant $\\tau_0=0$ et $\\tau_{m+1}=n$)\n",
    "$$\n",
    "(\\tau_1,...,\\tau_m) \\mapsto \\sum_{i=1}^{m+1} C(X_{\\tau_{i-1}+1},...,X_{\\tau_i};\\theta_i).\n",
    "$$\n",
    "Cependant, en prenant l'exemple du modèle gaussien avec pour paramètre $\\theta$ la moyenne, la minimisation donne une rupture à chaque instant (et $\\theta_i=X_i$)! Pour répondre à ce problème, nous allons plutôt minimiser\n",
    "$$\n",
    "(\\tau_1,...,\\tau_m) \\mapsto m\\beta + \\sum_{i=1}^{m+1} C(X_{\\tau_{i-1}+1},...,X_{\\tau_i};\\theta_i),\n",
    "$$\n",
    "pour un certain $\\beta>0$ fixé. Ainsi, un point de rupture sera ajouté seulement si son ajout permet de réduire la somme des $C$ plus que $\\beta$.\n",
    "En l'écrivant autrement, cela revient à minimiser\n",
    "$$\n",
    "(\\tau_1,...,\\tau_m) \\mapsto \\sum_{i=1}^{m+1} (C(X_{\\tau_{i-1}+1},...,X_{\\tau_i};\\theta_i) + \\beta).\n",
    "$$\n",
    "On note alors $(\\hat{\\tau}_1,...,\\hat{\\tau}_{\\hat{m}})$ les instants de ruptures et $\\hat{m}$ le nombre de rupture qui minimisent cette fonction.\n",
    "\n",
    "Afin de tester notre algorithme, nous allons définir une fonction de *coût* pour mesurer l'adéquation aux données."
   ]
  },
  {
   "cell_type": "code",
   "execution_count": null,
   "metadata": {
    "collapsed": false
   },
   "outputs": [],
   "source": [
    "def C(x):\n",
    "    return np.sum(np.power(x-np.mean(x),2))\n"
   ]
  },
  {
   "cell_type": "markdown",
   "metadata": {},
   "source": [
    "Ensuite, on génère les $(X_i)_{1\\leq i \\leq n}$ suivant des normales avec changement d'espérance puis des $(Y_i)_{1\\leq i \\leq n}$ suivant des normales avec changement de variance."
   ]
  },
  {
   "cell_type": "code",
   "execution_count": null,
   "metadata": {
    "collapsed": false
   },
   "outputs": [],
   "source": [
    "n=1000\n",
    "t=[250,450]\n",
    "\n",
    "#génération des X\n",
    "theta=(1,4,-1)\n",
    "X=np.random.normal(0,1,n)\n",
    "X=X+np.concatenate((theta[0]*np.ones(t[0]),theta[1]*np.ones(t[1]-t[0]),theta[2]*np.ones(n-t[1])))\n",
    "plt.plot(X);"
   ]
  },
  {
   "cell_type": "markdown",
   "metadata": {},
   "source": [
    "**Coder l'algorithme PELT**\n",
    "\n",
    "Pour celà, créer une fonction qui prend en arguments $X,C,\\beta$ et qui retourne les ruptures et le coût associé à ces ruptures."
   ]
  },
  {
   "cell_type": "code",
   "execution_count": null,
   "metadata": {
    "collapsed": false
   },
   "outputs": [],
   "source": [
    "def PELT(Z,C,b):\n",
    "    n=len(Z)\n",
    "    G=[-b]\n",
    "    cp=[0]\n",
    "\n",
    "    return set(cp)"
   ]
  },
  {
   "cell_type": "code",
   "execution_count": null,
   "metadata": {
    "collapsed": false
   },
   "outputs": [],
   "source": [
    "print PELT(X,C,50)"
   ]
  },
  {
   "cell_type": "markdown",
   "metadata": {},
   "source": [
    "## Algorithme d'Auger et Lawrence\n",
    "\n",
    "Ici, on suppose que le nombre de rupture $k$ est connu, ce qui nous évite le problème présenté plus haut (s'il y a autant de ruptures que de points, on peut toujours trouver une adéquation parfaite aux données).\n",
    "\n",
    "**Coder l'algoritme d'Auger et Lawrence.**\n",
    "\n",
    "Pour celà, créer une fonction qui prend en arguments $X,C,k$ et qui retourne les ruptures et le coût associé à ces ruptures."
   ]
  },
  {
   "cell_type": "code",
   "execution_count": null,
   "metadata": {
    "collapsed": true
   },
   "outputs": [],
   "source": [
    "def AL(Z,C,k):\n"
   ]
  },
  {
   "cell_type": "code",
   "execution_count": null,
   "metadata": {
    "collapsed": false,
    "scrolled": true
   },
   "outputs": [],
   "source": [
    "print AL(X,C,3)        "
   ]
  },
  {
   "cell_type": "markdown",
   "metadata": {},
   "source": [
    "## Cas non paramétrique\n",
    "\n",
    "On suppose cette fois que les $(X_i)_{1\\leq i \\leq n}$ sont générés suivant une loi $\\mathcal{E}(1)$ pour $1\\leq i \\leq \\tau$ et suivant une loi $\\mathcal{N}(1,1)$ pour les $\\tau < i \\leq n$."
   ]
  },
  {
   "cell_type": "code",
   "execution_count": null,
   "metadata": {
    "collapsed": false
   },
   "outputs": [],
   "source": [
    "n=1000\n",
    "t=300\n",
    "\n",
    "X=np.concatenate((np.random.exponential(1,t),np.random.normal(1,1,n-t)))\n",
    "plt.plot(X);"
   ]
  },
  {
   "cell_type": "markdown",
   "metadata": {},
   "source": [
    "**Écrire une fonction qui à partir d'un échantillon $(X_i)_{1\\leq i\\leq n}$ et d'un réel $t$ calcule la fonction de répartition empirique de l'échantillon en $t$.**"
   ]
  },
  {
   "cell_type": "code",
   "execution_count": null,
   "metadata": {
    "collapsed": true
   },
   "outputs": [],
   "source": [
    "def F_n(Z,t):\n",
    "    "
   ]
  },
  {
   "cell_type": "markdown",
   "metadata": {},
   "source": [
    "**Proposer un algorithme pour implémenter le cas non paramétrique et retrouver $\\tau$**"
   ]
  },
  {
   "cell_type": "code",
   "execution_count": null,
   "metadata": {
    "collapsed": true
   },
   "outputs": [],
   "source": []
  }
 ],
 "metadata": {
  "kernelspec": {
   "display_name": "Python 2",
   "language": "python",
   "name": "python2"
  },
  "language_info": {
   "codemirror_mode": {
    "name": "ipython",
    "version": 2
   },
   "file_extension": ".py",
   "mimetype": "text/x-python",
   "name": "python",
   "nbconvert_exporter": "python",
   "pygments_lexer": "ipython2",
   "version": "2.7.11"
  }
 },
 "nbformat": 4,
 "nbformat_minor": 0
}
